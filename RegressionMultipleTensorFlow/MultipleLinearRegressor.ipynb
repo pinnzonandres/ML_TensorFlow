{
  "nbformat": 4,
  "nbformat_minor": 0,
  "metadata": {
    "colab": {
      "name": "MultipleLinearRegressor.ipynb",
      "provenance": [],
      "toc_visible": true
    },
    "kernelspec": {
      "name": "python3",
      "display_name": "Python 3"
    }
  },
  "cells": [
    {
      "cell_type": "code",
      "metadata": {
        "id": "Q6qOmqtTXEeL",
        "colab_type": "code",
        "colab": {
          "base_uri": "https://localhost:8080/",
          "height": 51
        },
        "outputId": "7a072b8b-604e-4436-b3d9-1cb90ce95577"
      },
      "source": [
        "#Instalar Paquetes\n",
        "import tensorflow as tf\n",
        "\n",
        "\n",
        "import numpy as np\n",
        "import pandas as pd\n",
        "import datetime\n",
        "from pandas_datareader import data as pdr\n",
        "import matplotlib.pyplot as plt  \n",
        "from mpl_toolkits.mplot3d import Axes3D\n",
        "from sklearn.model_selection import train_test_split"
      ],
      "execution_count": 1,
      "outputs": [
        {
          "output_type": "stream",
          "text": [
            "/usr/local/lib/python3.6/dist-packages/pandas_datareader/compat/__init__.py:7: FutureWarning: pandas.util.testing is deprecated. Use the functions in the public API at pandas.testing instead.\n",
            "  from pandas.util.testing import assert_frame_equal\n"
          ],
          "name": "stderr"
        }
      ]
    },
    {
      "cell_type": "code",
      "metadata": {
        "id": "q4vzudRuZNSD",
        "colab_type": "code",
        "colab": {
          "base_uri": "https://localhost:8080/",
          "height": 235
        },
        "outputId": "25cd75fc-15bc-4cbf-9241-f5ee5fdd4106"
      },
      "source": [
        "#Descargamos los datos\n",
        "\n",
        "df= pdr.get_data_yahoo('AAPL', start= datetime.datetime(2019,1,1), end = datetime.datetime(2019,12,31))\n",
        "df.head()"
      ],
      "execution_count": 2,
      "outputs": [
        {
          "output_type": "execute_result",
          "data": {
            "text/html": [
              "<div>\n",
              "<style scoped>\n",
              "    .dataframe tbody tr th:only-of-type {\n",
              "        vertical-align: middle;\n",
              "    }\n",
              "\n",
              "    .dataframe tbody tr th {\n",
              "        vertical-align: top;\n",
              "    }\n",
              "\n",
              "    .dataframe thead th {\n",
              "        text-align: right;\n",
              "    }\n",
              "</style>\n",
              "<table border=\"1\" class=\"dataframe\">\n",
              "  <thead>\n",
              "    <tr style=\"text-align: right;\">\n",
              "      <th></th>\n",
              "      <th>High</th>\n",
              "      <th>Low</th>\n",
              "      <th>Open</th>\n",
              "      <th>Close</th>\n",
              "      <th>Volume</th>\n",
              "      <th>Adj Close</th>\n",
              "    </tr>\n",
              "    <tr>\n",
              "      <th>Date</th>\n",
              "      <th></th>\n",
              "      <th></th>\n",
              "      <th></th>\n",
              "      <th></th>\n",
              "      <th></th>\n",
              "      <th></th>\n",
              "    </tr>\n",
              "  </thead>\n",
              "  <tbody>\n",
              "    <tr>\n",
              "      <th>2019-01-02</th>\n",
              "      <td>158.850006</td>\n",
              "      <td>154.229996</td>\n",
              "      <td>154.889999</td>\n",
              "      <td>157.919998</td>\n",
              "      <td>37039700.0</td>\n",
              "      <td>155.214005</td>\n",
              "    </tr>\n",
              "    <tr>\n",
              "      <th>2019-01-03</th>\n",
              "      <td>145.720001</td>\n",
              "      <td>142.000000</td>\n",
              "      <td>143.979996</td>\n",
              "      <td>142.190002</td>\n",
              "      <td>91312200.0</td>\n",
              "      <td>139.753540</td>\n",
              "    </tr>\n",
              "    <tr>\n",
              "      <th>2019-01-04</th>\n",
              "      <td>148.550003</td>\n",
              "      <td>143.800003</td>\n",
              "      <td>144.529999</td>\n",
              "      <td>148.259995</td>\n",
              "      <td>58607100.0</td>\n",
              "      <td>145.719513</td>\n",
              "    </tr>\n",
              "    <tr>\n",
              "      <th>2019-01-07</th>\n",
              "      <td>148.830002</td>\n",
              "      <td>145.899994</td>\n",
              "      <td>148.699997</td>\n",
              "      <td>147.929993</td>\n",
              "      <td>54777800.0</td>\n",
              "      <td>145.395203</td>\n",
              "    </tr>\n",
              "    <tr>\n",
              "      <th>2019-01-08</th>\n",
              "      <td>151.820007</td>\n",
              "      <td>148.520004</td>\n",
              "      <td>149.559998</td>\n",
              "      <td>150.750000</td>\n",
              "      <td>41025300.0</td>\n",
              "      <td>148.166870</td>\n",
              "    </tr>\n",
              "  </tbody>\n",
              "</table>\n",
              "</div>"
            ],
            "text/plain": [
              "                  High         Low  ...      Volume   Adj Close\n",
              "Date                                ...                        \n",
              "2019-01-02  158.850006  154.229996  ...  37039700.0  155.214005\n",
              "2019-01-03  145.720001  142.000000  ...  91312200.0  139.753540\n",
              "2019-01-04  148.550003  143.800003  ...  58607100.0  145.719513\n",
              "2019-01-07  148.830002  145.899994  ...  54777800.0  145.395203\n",
              "2019-01-08  151.820007  148.520004  ...  41025300.0  148.166870\n",
              "\n",
              "[5 rows x 6 columns]"
            ]
          },
          "metadata": {
            "tags": []
          },
          "execution_count": 2
        }
      ]
    },
    {
      "cell_type": "code",
      "metadata": {
        "id": "r6gtSLomaJQx",
        "colab_type": "code",
        "colab": {
          "base_uri": "https://localhost:8080/",
          "height": 272
        },
        "outputId": "e466454d-6e77-4fbd-aed5-0a1edf19e28f"
      },
      "source": [
        "df.describe"
      ],
      "execution_count": 3,
      "outputs": [
        {
          "output_type": "execute_result",
          "data": {
            "text/plain": [
              "<bound method NDFrame.describe of                   High         Low  ...      Volume   Adj Close\n",
              "Date                                ...                        \n",
              "2019-01-02  158.850006  154.229996  ...  37039700.0  155.214005\n",
              "2019-01-03  145.720001  142.000000  ...  91312200.0  139.753540\n",
              "2019-01-04  148.550003  143.800003  ...  58607100.0  145.719513\n",
              "2019-01-07  148.830002  145.899994  ...  54777800.0  145.395203\n",
              "2019-01-08  151.820007  148.520004  ...  41025300.0  148.166870\n",
              "...                ...         ...  ...         ...         ...\n",
              "2019-12-24  284.890015  282.920013  ...  12119700.0  283.596924\n",
              "2019-12-26  289.980011  284.700012  ...  23280300.0  289.223602\n",
              "2019-12-27  293.970001  288.119995  ...  36566500.0  289.113831\n",
              "2019-12-30  292.690002  285.220001  ...  36028600.0  290.829773\n",
              "2019-12-31  293.679993  289.519989  ...  25201400.0  292.954712\n",
              "\n",
              "[252 rows x 6 columns]>"
            ]
          },
          "metadata": {
            "tags": []
          },
          "execution_count": 3
        }
      ]
    },
    {
      "cell_type": "code",
      "metadata": {
        "id": "UyJC4-T-aT_Q",
        "colab_type": "code",
        "colab": {
          "base_uri": "https://localhost:8080/",
          "height": 319
        },
        "outputId": "2c928ae1-22b1-4a48-fa07-edeea74d3322"
      },
      "source": [
        "fig = plt.figure()\n",
        "ax=Axes3D(fig)\n",
        "#ax = fig.add_subplot(111, projection='3d')\n",
        "ax.scatter(df['High'],df['Open'],df['Adj Close'],c='blue',marker='o',alpha=0.5)\n",
        "ax.set_xlabel('High')\n",
        "ax.set_ylabel('Open')\n",
        "ax.set_zlabel('AdjClose')\n",
        "plt.show()"
      ],
      "execution_count": 4,
      "outputs": [
        {
          "output_type": "display_data",
          "data": {
            "image/png": "[encoded data removed]",
            "text/plain": [
              "<Figure size 432x288 with 1 Axes>"
            ]
          },
          "metadata": {
            "tags": [],
            "needs_background": "light"
          }
        }
      ]
    },
    {
      "cell_type": "code",
      "metadata": {
        "id": "Dl3uJxy8anyV",
        "colab_type": "code",
        "colab": {
          "base_uri": "https://localhost:8080/",
          "height": 235
        },
        "outputId": "3c8a7dd4-1850-479a-f71c-e16e95a945c7"
      },
      "source": [
        "#Normalizar los datos\n",
        "mean = df.mean()\n",
        "std =df.std()\n",
        "df_norm= (df-mean) / std\n",
        "df_norm.head()"
      ],
      "execution_count": 5,
      "outputs": [
        {
          "output_type": "execute_result",
          "data": {
            "text/html": [
              "<div>\n",
              "<style scoped>\n",
              "    .dataframe tbody tr th:only-of-type {\n",
              "        vertical-align: middle;\n",
              "    }\n",
              "\n",
              "    .dataframe tbody tr th {\n",
              "        vertical-align: top;\n",
              "    }\n",
              "\n",
              "    .dataframe thead th {\n",
              "        text-align: right;\n",
              "    }\n",
              "</style>\n",
              "<table border=\"1\" class=\"dataframe\">\n",
              "  <thead>\n",
              "    <tr style=\"text-align: right;\">\n",
              "      <th></th>\n",
              "      <th>High</th>\n",
              "      <th>Low</th>\n",
              "      <th>Open</th>\n",
              "      <th>Close</th>\n",
              "      <th>Volume</th>\n",
              "      <th>Adj Close</th>\n",
              "    </tr>\n",
              "    <tr>\n",
              "      <th>Date</th>\n",
              "      <th></th>\n",
              "      <th></th>\n",
              "      <th></th>\n",
              "      <th></th>\n",
              "      <th></th>\n",
              "      <th></th>\n",
              "    </tr>\n",
              "  </thead>\n",
              "  <tbody>\n",
              "    <tr>\n",
              "      <th>2019-01-02</th>\n",
              "      <td>-1.478352</td>\n",
              "      <td>-1.516995</td>\n",
              "      <td>-1.541273</td>\n",
              "      <td>-1.457367</td>\n",
              "      <td>0.832286</td>\n",
              "      <td>-1.461565</td>\n",
              "    </tr>\n",
              "    <tr>\n",
              "      <th>2019-01-03</th>\n",
              "      <td>-1.859092</td>\n",
              "      <td>-1.873495</td>\n",
              "      <td>-1.858668</td>\n",
              "      <td>-1.912794</td>\n",
              "      <td>5.846337</td>\n",
              "      <td>-1.901936</td>\n",
              "    </tr>\n",
              "    <tr>\n",
              "      <th>2019-01-04</th>\n",
              "      <td>-1.777028</td>\n",
              "      <td>-1.821026</td>\n",
              "      <td>-1.842668</td>\n",
              "      <td>-1.737051</td>\n",
              "      <td>2.824825</td>\n",
              "      <td>-1.732004</td>\n",
              "    </tr>\n",
              "    <tr>\n",
              "      <th>2019-01-07</th>\n",
              "      <td>-1.768909</td>\n",
              "      <td>-1.759812</td>\n",
              "      <td>-1.721354</td>\n",
              "      <td>-1.746605</td>\n",
              "      <td>2.471049</td>\n",
              "      <td>-1.741241</td>\n",
              "    </tr>\n",
              "    <tr>\n",
              "      <th>2019-01-08</th>\n",
              "      <td>-1.682205</td>\n",
              "      <td>-1.683439</td>\n",
              "      <td>-1.696334</td>\n",
              "      <td>-1.664958</td>\n",
              "      <td>1.200502</td>\n",
              "      <td>-1.662294</td>\n",
              "    </tr>\n",
              "  </tbody>\n",
              "</table>\n",
              "</div>"
            ],
            "text/plain": [
              "                High       Low      Open     Close    Volume  Adj Close\n",
              "Date                                                                   \n",
              "2019-01-02 -1.478352 -1.516995 -1.541273 -1.457367  0.832286  -1.461565\n",
              "2019-01-03 -1.859092 -1.873495 -1.858668 -1.912794  5.846337  -1.901936\n",
              "2019-01-04 -1.777028 -1.821026 -1.842668 -1.737051  2.824825  -1.732004\n",
              "2019-01-07 -1.768909 -1.759812 -1.721354 -1.746605  2.471049  -1.741241\n",
              "2019-01-08 -1.682205 -1.683439 -1.696334 -1.664958  1.200502  -1.662294"
            ]
          },
          "metadata": {
            "tags": []
          },
          "execution_count": 5
        }
      ]
    },
    {
      "cell_type": "code",
      "metadata": {
        "id": "IBzynjIqa7fo",
        "colab_type": "code",
        "colab": {
          "base_uri": "https://localhost:8080/",
          "height": 297
        },
        "outputId": "f2d00881-c129-4907-873b-98879a5a91de"
      },
      "source": [
        "df_norm.describe()"
      ],
      "execution_count": 6,
      "outputs": [
        {
          "output_type": "execute_result",
          "data": {
            "text/html": [
              "<div>\n",
              "<style scoped>\n",
              "    .dataframe tbody tr th:only-of-type {\n",
              "        vertical-align: middle;\n",
              "    }\n",
              "\n",
              "    .dataframe tbody tr th {\n",
              "        vertical-align: top;\n",
              "    }\n",
              "\n",
              "    .dataframe thead th {\n",
              "        text-align: right;\n",
              "    }\n",
              "</style>\n",
              "<table border=\"1\" class=\"dataframe\">\n",
              "  <thead>\n",
              "    <tr style=\"text-align: right;\">\n",
              "      <th></th>\n",
              "      <th>High</th>\n",
              "      <th>Low</th>\n",
              "      <th>Open</th>\n",
              "      <th>Close</th>\n",
              "      <th>Volume</th>\n",
              "      <th>Adj Close</th>\n",
              "    </tr>\n",
              "  </thead>\n",
              "  <tbody>\n",
              "    <tr>\n",
              "      <th>count</th>\n",
              "      <td>2.520000e+02</td>\n",
              "      <td>2.520000e+02</td>\n",
              "      <td>2.520000e+02</td>\n",
              "      <td>2.520000e+02</td>\n",
              "      <td>2.520000e+02</td>\n",
              "      <td>2.520000e+02</td>\n",
              "    </tr>\n",
              "    <tr>\n",
              "      <th>mean</th>\n",
              "      <td>1.779881e-16</td>\n",
              "      <td>-2.431917e-16</td>\n",
              "      <td>4.758099e-17</td>\n",
              "      <td>-5.339644e-16</td>\n",
              "      <td>1.564005e-17</td>\n",
              "      <td>4.053195e-17</td>\n",
              "    </tr>\n",
              "    <tr>\n",
              "      <th>std</th>\n",
              "      <td>1.000000e+00</td>\n",
              "      <td>1.000000e+00</td>\n",
              "      <td>1.000000e+00</td>\n",
              "      <td>1.000000e+00</td>\n",
              "      <td>1.000000e+00</td>\n",
              "      <td>1.000000e+00</td>\n",
              "    </tr>\n",
              "    <tr>\n",
              "      <th>min</th>\n",
              "      <td>-1.859092e+00</td>\n",
              "      <td>-1.873495e+00</td>\n",
              "      <td>-1.858668e+00</td>\n",
              "      <td>-1.912794e+00</td>\n",
              "      <td>-1.539988e+00</td>\n",
              "      <td>-1.901936e+00</td>\n",
              "    </tr>\n",
              "    <tr>\n",
              "      <th>25%</th>\n",
              "      <td>-6.379262e-01</td>\n",
              "      <td>-6.632745e-01</td>\n",
              "      <td>-6.616006e-01</td>\n",
              "      <td>-6.437931e-01</td>\n",
              "      <td>-6.518577e-01</td>\n",
              "      <td>-6.430955e-01</td>\n",
              "    </tr>\n",
              "    <tr>\n",
              "      <th>50%</th>\n",
              "      <td>-1.483726e-01</td>\n",
              "      <td>-1.363220e-01</td>\n",
              "      <td>-1.375791e-01</td>\n",
              "      <td>-1.517402e-01</td>\n",
              "      <td>-1.989510e-01</td>\n",
              "      <td>-1.488243e-01</td>\n",
              "    </tr>\n",
              "    <tr>\n",
              "      <th>75%</th>\n",
              "      <td>4.410054e-01</td>\n",
              "      <td>4.382902e-01</td>\n",
              "      <td>4.545907e-01</td>\n",
              "      <td>4.467140e-01</td>\n",
              "      <td>3.685219e-01</td>\n",
              "      <td>4.546292e-01</td>\n",
              "    </tr>\n",
              "    <tr>\n",
              "      <th>max</th>\n",
              "      <td>2.439816e+00</td>\n",
              "      <td>2.426660e+00</td>\n",
              "      <td>2.421944e+00</td>\n",
              "      <td>2.472396e+00</td>\n",
              "      <td>5.846337e+00</td>\n",
              "      <td>2.461797e+00</td>\n",
              "    </tr>\n",
              "  </tbody>\n",
              "</table>\n",
              "</div>"
            ],
            "text/plain": [
              "               High           Low  ...        Volume     Adj Close\n",
              "count  2.520000e+02  2.520000e+02  ...  2.520000e+02  2.520000e+02\n",
              "mean   1.779881e-16 -2.431917e-16  ...  1.564005e-17  4.053195e-17\n",
              "std    1.000000e+00  1.000000e+00  ...  1.000000e+00  1.000000e+00\n",
              "min   -1.859092e+00 -1.873495e+00  ... -1.539988e+00 -1.901936e+00\n",
              "25%   -6.379262e-01 -6.632745e-01  ... -6.518577e-01 -6.430955e-01\n",
              "50%   -1.483726e-01 -1.363220e-01  ... -1.989510e-01 -1.488243e-01\n",
              "75%    4.410054e-01  4.382902e-01  ...  3.685219e-01  4.546292e-01\n",
              "max    2.439816e+00  2.426660e+00  ...  5.846337e+00  2.461797e+00\n",
              "\n",
              "[8 rows x 6 columns]"
            ]
          },
          "metadata": {
            "tags": []
          },
          "execution_count": 6
        }
      ]
    },
    {
      "cell_type": "code",
      "metadata": {
        "id": "ATnR7fqHa_0v",
        "colab_type": "code",
        "colab": {
          "base_uri": "https://localhost:8080/",
          "height": 51
        },
        "outputId": "3a39f1c5-172e-4f4d-e2f2-fcc83f8245f9"
      },
      "source": [
        "#Segmentamos los datos para las variables que queremos usar\n",
        "feature_names=['High','Low','Open']\n",
        "data_x= df_norm[feature_names]\n",
        "data_y= df_norm['Adj Close']\n",
        "print ('input_shape X_Data', data_x.shape)\n",
        "print ('input_shape Y_Data', data_y.shape)"
      ],
      "execution_count": 7,
      "outputs": [
        {
          "output_type": "stream",
          "text": [
            "input_shape X_Data (252, 3)\n",
            "input_shape Y_Data (252,)\n"
          ],
          "name": "stdout"
        }
      ]
    },
    {
      "cell_type": "markdown",
      "metadata": {
        "id": "WcbqPOuEn6xl",
        "colab_type": "text"
      },
      "source": [
        ""
      ]
    },
    {
      "cell_type": "code",
      "metadata": {
        "id": "GiQfryJTl8dd",
        "colab_type": "code",
        "colab": {}
      },
      "source": [
        "#Separamos los datos\n",
        "train_x , test_x ,train_Y, test_Y = train_test_split( data_x , data_y , test_size=0.2 )"
      ],
      "execution_count": 0,
      "outputs": []
    },
    {
      "cell_type": "code",
      "metadata": {
        "id": "2ApBlaL_pDG8",
        "colab_type": "code",
        "colab": {}
      },
      "source": [
        "#Preparamos los datos a tensorflow\n",
        "train_x = tf.constant( train_x , dtype=tf.float32 )\n",
        "train_Y = tf.constant( train_Y , dtype=tf.float32 )\n",
        "\n",
        "test_X = tf.constant( test_x , dtype=tf.float32 ) \n",
        "test_Y = tf.constant( test_Y , dtype=tf.float32 ) "
      ],
      "execution_count": 0,
      "outputs": []
    },
    {
      "cell_type": "code",
      "metadata": {
        "id": "OyJa9248pM2c",
        "colab_type": "code",
        "colab": {}
      },
      "source": [
        "#Definimos nuestras funciones y no sessiones para tf=2.00\n",
        "def mean_squared_error( Y , y_pred ):\n",
        "    return tf.reduce_mean( tf.square( y_pred - Y ) )\n",
        "\n",
        "def mean_squared_error_deriv( Y , y_pred ):\n",
        "    return tf.reshape( tf.reduce_mean( 2 * ( y_pred - Y ) ) , [ 1 , 1 ] )\n",
        "    \n",
        "def h ( X , weights , bias ):\n",
        "    return tf.tensordot( X , weights , axes=1 ) + bias"
      ],
      "execution_count": 0,
      "outputs": []
    },
    {
      "cell_type": "code",
      "metadata": {
        "id": "d1p-0EolpvP1",
        "colab_type": "code",
        "colab": {}
      },
      "source": [
        "#Parametros del entrenamiento\n",
        "num_epochs = 10\n",
        "num_samples = train_x.shape[0]\n",
        "batch_size = 10\n",
        "learning_rate = 0.01"
      ],
      "execution_count": 0,
      "outputs": []
    },
    {
      "cell_type": "code",
      "metadata": {
        "id": "UWyTxMYtp7GK",
        "colab_type": "code",
        "colab": {}
      },
      "source": [
        "#Preparamos los datos como un iterator para entrenarlo\n",
        "dataset = tf.data.Dataset.from_tensor_slices(( train_x , train_Y )) \n",
        "dataset = dataset.shuffle( 500 ).repeat( num_epochs ).batch( batch_size )\n",
        "iterator = dataset.__iter__()"
      ],
      "execution_count": 0,
      "outputs": []
    },
    {
      "cell_type": "code",
      "metadata": {
        "id": "cp-TN-Dpp-WE",
        "colab_type": "code",
        "colab": {}
      },
      "source": [
        "num_features = train_x.shape[1]\n",
        "weights = tf.random.normal( ( num_features , 1 ) ) \n",
        "bias = 0\n"
      ],
      "execution_count": 0,
      "outputs": []
    },
    {
      "cell_type": "code",
      "metadata": {
        "id": "bwv58meAqhIz",
        "colab_type": "code",
        "colab": {}
      },
      "source": [
        "epochs_plot = list()\n",
        "loss_plot = list()"
      ],
      "execution_count": 0,
      "outputs": []
    },
    {
      "cell_type": "code",
      "metadata": {
        "id": "Tyb62s1Nqkfs",
        "colab_type": "code",
        "colab": {
          "base_uri": "https://localhost:8080/",
          "height": 187
        },
        "outputId": "13d729d0-5614-4c74-e5c2-aaea31767504"
      },
      "source": [
        "for i in range( num_epochs ) :\n",
        "    \n",
        "    epoch_loss = list()\n",
        "    for b in range( int(num_samples/batch_size) ):\n",
        "        x_batch , y_batch = iterator.get_next()\n",
        "   \n",
        "        output = h( x_batch , weights , bias ) \n",
        "        loss = epoch_loss.append( mean_squared_error( y_batch , output ).numpy() )\n",
        "    \n",
        "        dJ_dH = mean_squared_error_deriv( y_batch , output)\n",
        "        dH_dW = x_batch\n",
        "        dJ_dW = tf.reduce_mean( dJ_dH * dH_dW )\n",
        "        dJ_dB = tf.reduce_mean( dJ_dH )\n",
        "    \n",
        "        weights -= ( learning_rate * dJ_dW )\n",
        "        bias -= ( learning_rate * dJ_dB ) \n",
        "        \n",
        "    loss = np.array( epoch_loss ).mean()\n",
        "    epochs_plot.append( i + 1 )\n",
        "    loss_plot.append( loss ) \n",
        "    \n",
        "    print( 'Loss is {}'.format( loss ) ) "
      ],
      "execution_count": 15,
      "outputs": [
        {
          "output_type": "stream",
          "text": [
            "Loss is 16.390628814697266\n",
            "Loss is 11.3699951171875\n",
            "Loss is 9.033456802368164\n",
            "Loss is 7.558359622955322\n",
            "Loss is 5.640229225158691\n",
            "Loss is 4.578558444976807\n",
            "Loss is 3.414339542388916\n",
            "Loss is 2.90352725982666\n",
            "Loss is 2.008080005645752\n",
            "Loss is 1.4830597639083862\n"
          ],
          "name": "stdout"
        }
      ]
    },
    {
      "cell_type": "code",
      "metadata": {
        "id": "F6F82ujatsoa",
        "colab_type": "code",
        "colab": {
          "base_uri": "https://localhost:8080/",
          "height": 265
        },
        "outputId": "fe39e490-6df5-406e-8485-6908d513ab06"
      },
      "source": [
        "import matplotlib.pyplot as plt\n",
        "plt.plot( epochs_plot , loss_plot ) \n",
        "plt.show()"
      ],
      "execution_count": 16,
      "outputs": [
        {
          "output_type": "display_data",
          "data": {
            "image/png": "[encoded data removed]",
            "text/plain": [
              "<Figure size 432x288 with 1 Axes>"
            ]
          },
          "metadata": {
            "tags": [],
            "needs_background": "light"
          }
        }
      ]
    },
    {
      "cell_type": "code",
      "metadata": {
        "id": "P2H4GJIqtvLC",
        "colab_type": "code",
        "colab": {
          "base_uri": "https://localhost:8080/",
          "height": 34
        },
        "outputId": "b63ce2d6-9fab-4949-c3c8-4c94b04c046f"
      },
      "source": [
        "output = h( test_X , weights , bias ) \n",
        "labels = test_Y\n",
        "\n",
        "accuracy_op = tf.metrics.MeanAbsoluteError() \n",
        "accuracy_op.update_state( labels , output )\n",
        "print( 'Mean Absolute Error = {}'.format( accuracy_op.result().numpy() ) )"
      ],
      "execution_count": 17,
      "outputs": [
        {
          "output_type": "stream",
          "text": [
            "Mean Absolute Error = 1.0623091459274292\n"
          ],
          "name": "stdout"
        }
      ]
    }
  ]
}